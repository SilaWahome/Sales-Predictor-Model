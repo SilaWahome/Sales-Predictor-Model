{
  "nbformat": 4,
  "nbformat_minor": 0,
  "metadata": {
    "colab": {
      "provenance": [],
      "mount_file_id": "1Vfp-4OhF69tgggY8CavGIGjSPfx7OZIx",
      "authorship_tag": "ABX9TyOPjvLA+g1JiDSGLTJpKl9A",
      "include_colab_link": true
    },
    "kernelspec": {
      "name": "python3",
      "display_name": "Python 3"
    },
    "language_info": {
      "name": "python"
    }
  },
  "cells": [
    {
      "cell_type": "markdown",
      "metadata": {
        "id": "view-in-github",
        "colab_type": "text"
      },
      "source": [
        "<a href=\"https://colab.research.google.com/github/SilaWahome/Sales-Predictor-Model/blob/main/Financial_Analysis.ipynb\" target=\"_parent\"><img src=\"https://colab.research.google.com/assets/colab-badge.svg\" alt=\"Open In Colab\"/></a>"
      ]
    },
    {
      "cell_type": "markdown",
      "source": [
        "Coding Essentials with silas\n",
        "\n",
        "\n",
        "\n",
        "\n",
        "\n",
        "\n"
      ],
      "metadata": {
        "id": "P5cfFuTtL3jx"
      }
    },
    {
      "cell_type": "markdown",
      "source": [
        "Simple NPV CALCULATION ON PYTHON,TO DETERMINE PROFITABILITY"
      ],
      "metadata": {
        "id": "nezU2nZZKPr3"
      }
    },
    {
      "cell_type": "markdown",
      "source": [
        "Import necessary tools for the work flow"
      ],
      "metadata": {
        "id": "55K7daU3WNE2"
      }
    },
    {
      "cell_type": "code",
      "source": [
        "!pip install numpy-financial\n",
        "\n"
      ],
      "metadata": {
        "id": "jQc9mBBIXpCn"
      },
      "execution_count": null,
      "outputs": []
    },
    {
      "cell_type": "code",
      "execution_count": 3,
      "metadata": {
        "id": "v5wHtn7HV17-"
      },
      "outputs": [],
      "source": [
        "import pandas as pd\n",
        "import numpy as np\n",
        "from numpy_financial import npv, irr\n",
        "import numpy_financial as npf\n",
        "import plotly.graph_objects as go\n",
        "import os\n",
        "from pydrive.auth import GoogleAuth\n",
        "from pydrive.drive import GoogleDrive\n",
        "from google.colab import auth\n",
        "\n"
      ]
    },
    {
      "cell_type": "markdown",
      "source": [
        "Mount the Data to use in Google Colab"
      ],
      "metadata": {
        "id": "3ZemJC0JWMMf"
      }
    },
    {
      "cell_type": "code",
      "source": [
        "from google.colab import drive\n",
        "drive.mount('/content/drive')\n",
        "path=\"/content/drive/MyDrive/Financial analysis/financial_data.csv\""
      ],
      "metadata": {
        "colab": {
          "base_uri": "https://localhost:8080/"
        },
        "id": "H97RX9tdWdX3",
        "outputId": "74debb9d-201f-42ef-d55e-f7940dd2028c"
      },
      "execution_count": 4,
      "outputs": [
        {
          "output_type": "stream",
          "name": "stdout",
          "text": [
            "Drive already mounted at /content/drive; to attempt to forcibly remount, call drive.mount(\"/content/drive\", force_remount=True).\n"
          ]
        }
      ]
    },
    {
      "cell_type": "code",
      "source": [
        "df=pd.read_csv(path)"
      ],
      "metadata": {
        "id": "uMGEYSOYaHYU"
      },
      "execution_count": 5,
      "outputs": []
    },
    {
      "cell_type": "code",
      "source": [
        "print(df.head(2))"
      ],
      "metadata": {
        "colab": {
          "base_uri": "https://localhost:8080/"
        },
        "id": "__VfoJPwZDNB",
        "outputId": "e9658a3b-64f7-4ff6-c37d-af63ff9c3128"
      },
      "execution_count": 6,
      "outputs": [
        {
          "output_type": "stream",
          "name": "stdout",
          "text": [
            "   Period  Cash Flow\n",
            "0       0  ($50,000)\n",
            "1       1   $52,400 \n"
          ]
        }
      ]
    },
    {
      "cell_type": "markdown",
      "source": [
        "CALCULATE THE NPV"
      ],
      "metadata": {
        "id": "ZaDyDljLaMzh"
      }
    },
    {
      "cell_type": "code",
      "source": [
        "rate = 0.1 #Discount rate\n",
        "cash_flows = df[\"Cash Flow\"].str.replace(\"(\", \"-\").str.replace(\")\", \"\").str.replace(\"$\", \"\").str.replace(\",\", \"\").astype(float).tolist()\n",
        "npv_result = npv(rate, cash_flows)"
      ],
      "metadata": {
        "id": "U8_K-Sz6aMOi"
      },
      "execution_count": null,
      "outputs": []
    },
    {
      "cell_type": "markdown",
      "source": [
        "#CALCULATE THE IRR(Internal Rate of Return)"
      ],
      "metadata": {
        "id": "e9IT2InYK2EK"
      }
    },
    {
      "cell_type": "code",
      "source": [
        "irr_result = irr(cash_flows)"
      ],
      "metadata": {
        "id": "TqWNvnsR0Xtr"
      },
      "execution_count": 13,
      "outputs": []
    },
    {
      "cell_type": "markdown",
      "source": [
        "CALCULATE THE PAYBACK PERIOD"
      ],
      "metadata": {
        "id": "sGmR-wjbK98s"
      }
    },
    {
      "cell_type": "code",
      "source": [
        "initial_investment = cash_flows[0]\n",
        "payback_period = 0\n",
        "cummulative_cash_flow = 0"
      ],
      "metadata": {
        "id": "3FAq5XrFJPWm"
      },
      "execution_count": 14,
      "outputs": []
    },
    {
      "cell_type": "markdown",
      "source": [
        "Calculate the profit investment ratio(PIR)"
      ],
      "metadata": {
        "id": "uZOvlVObLLNw"
      }
    },
    {
      "cell_type": "code",
      "source": [
        "for period, cash_flow in enumerate(cash_flows):\n",
        "    cummulative_cash_flow += cash_flow\n",
        "    if cummulative_cash_flow >= initial_investment:\n",
        "        payback_period = period + 1\n",
        "        break"
      ],
      "metadata": {
        "id": "QxvL7GT7JWkN"
      },
      "execution_count": 16,
      "outputs": []
    },
    {
      "cell_type": "code",
      "source": [
        "pi = npv_result / abs(initial_investment)\n"
      ],
      "metadata": {
        "id": "LuF9ZYwWJdG-"
      },
      "execution_count": 18,
      "outputs": []
    },
    {
      "cell_type": "code",
      "source": [
        "print(f\"NPV: ${npv_result:.2f}\")\n",
        "print(f\"IRR: {irr_result:.2%}\")\n",
        "print(f\"Payback Period: {payback_period} year(s)\")\n",
        "print(f\"PI: {pi:.2f}\")"
      ],
      "metadata": {
        "colab": {
          "base_uri": "https://localhost:8080/"
        },
        "id": "XHYhNAYxJiCh",
        "outputId": "1d827827-1bee-4292-df82-297e4b22a3c4"
      },
      "execution_count": 19,
      "outputs": [
        {
          "output_type": "stream",
          "name": "stdout",
          "text": [
            "NPV: $103987.77\n",
            "IRR: 81.11%\n",
            "Payback Period: 2 year(s)\n",
            "PI: 2.08\n"
          ]
        }
      ]
    },
    {
      "cell_type": "markdown",
      "source": [
        "\n",
        " NPV, IRR, Payback Period, and PI.\n",
        " We will achieve this by leveraging various Python libraries and tools.\n",
        " libraries such as pandas, numpy but also this maybe new to you, which is numpy_financial"
      ],
      "metadata": {
        "id": "DvOIaKomJ6t7"
      }
    },
    {
      "cell_type": "code",
      "source": [
        "!pip install nbconvert\n",
        "!pip install PyPDF2\n"
      ],
      "metadata": {
        "id": "IZ5hmf6PMm6Q"
      },
      "execution_count": null,
      "outputs": []
    },
    {
      "cell_type": "code",
      "source": [
        "import nbconvert\n",
        "import pdfkit\n"
      ],
      "metadata": {
        "id": "1vjRav_vMxK2"
      },
      "execution_count": 40,
      "outputs": []
    },
    {
      "cell_type": "code",
      "source": [
        "html_path = 'https://colab.research.google.com/drive/1Vfp-4OhF69tgggY8CavGIGjSPfx7OZIx?usp=drive_link'\n",
        "pdf_path = 'Financial Analysis.pdf'"
      ],
      "metadata": {
        "id": "uEgn8VRkOwXE"
      },
      "execution_count": 43,
      "outputs": []
    },
    {
      "cell_type": "markdown",
      "source": [
        "Silas W."
      ],
      "metadata": {
        "id": "3WXdQhFGLzGE"
      }
    }
  ]
}